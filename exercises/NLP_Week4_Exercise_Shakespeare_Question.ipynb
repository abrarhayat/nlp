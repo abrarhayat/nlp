{
  "nbformat": 4,
  "nbformat_minor": 0,
  "metadata": {
    "accelerator": "GPU",
    "colab": {
      "name": "NLP_Week4_Exercise_Shakespeare_Question.ipynb",
      "provenance": [],
      "collapsed_sections": [],
      "toc_visible": true
    },
    "kernelspec": {
      "display_name": "Python 3",
      "name": "python3"
    }
  },
  "cells": [
    {
      "cell_type": "code",
      "metadata": {
        "id": "zX4Kg8DUTKWO"
      },
      "source": [
        "#@title Licensed under the Apache License, Version 2.0 (the \"License\");\n",
        "# you may not use this file except in compliance with the License.\n",
        "# You may obtain a copy of the License at\n",
        "#\n",
        "# https://www.apache.org/licenses/LICENSE-2.0\n",
        "#\n",
        "# Unless required by applicable law or agreed to in writing, software\n",
        "# distributed under the License is distributed on an \"AS IS\" BASIS,\n",
        "# WITHOUT WARRANTIES OR CONDITIONS OF ANY KIND, either express or implied.\n",
        "# See the License for the specific language governing permissions and\n",
        "# limitations under the License."
      ],
      "execution_count": null,
      "outputs": []
    },
    {
      "cell_type": "code",
      "metadata": {
        "id": "BOwsuGQQY9OL"
      },
      "source": [
        "from tensorflow.keras.preprocessing.sequence import pad_sequences\n",
        "from tensorflow.keras.layers import Embedding, LSTM, Dense, Dropout, Bidirectional\n",
        "from tensorflow.keras.preprocessing.text import Tokenizer\n",
        "from tensorflow.keras.models import Sequential\n",
        "from tensorflow.keras.optimizers import Adam\n",
        "from tensorflow.keras import regularizers\n",
        "### YOUR CODE HERE\n",
        "# Figure out how to import regularizers\n",
        "###\n",
        "import tensorflow.keras.utils as ku \n",
        "import numpy as np "
      ],
      "execution_count": null,
      "outputs": []
    },
    {
      "cell_type": "code",
      "metadata": {
        "id": "PRnDnCW-Z7qv",
        "colab": {
          "base_uri": "https://localhost:8080/"
        },
        "outputId": "ff905545-4dfe-4343-e6ed-c6651bb91fca"
      },
      "source": [
        "tokenizer = Tokenizer()\n",
        "!wget --no-check-certificate \\\n",
        "    https://storage.googleapis.com/laurencemoroney-blog.appspot.com/sonnets.txt \\\n",
        "    -O /tmp/sonnets.txt\n",
        "data = open('/tmp/sonnets.txt').read()\n",
        "\n",
        "corpus = data.lower().split(\"\\n\")\n",
        "\n",
        "\n",
        "tokenizer.fit_on_texts(corpus)\n",
        "total_words = len(tokenizer.word_index) + 1\n",
        "\n",
        "# create input sequences using list of tokens\n",
        "input_sequences = []\n",
        "for line in corpus:\n",
        "\ttoken_list = tokenizer.texts_to_sequences([line])[0]\n",
        "\tfor i in range(1, len(token_list)):\n",
        "\t\tn_gram_sequence = token_list[:i+1]\n",
        "\t\tinput_sequences.append(n_gram_sequence)\n",
        "\n",
        "\n",
        "# pad sequences \n",
        "max_sequence_len = max([len(x) for x in input_sequences])\n",
        "input_sequences = np.array(pad_sequences(input_sequences, maxlen=max_sequence_len, padding='pre'))\n",
        "\n",
        "# create predictors and label\n",
        "predictors, label = input_sequences[:,:-1],input_sequences[:,-1]\n",
        "\n",
        "label = ku.to_categorical(label, num_classes=total_words)"
      ],
      "execution_count": null,
      "outputs": [
        {
          "output_type": "stream",
          "text": [
            "--2020-12-08 19:26:02--  https://storage.googleapis.com/laurencemoroney-blog.appspot.com/sonnets.txt\n",
            "Resolving storage.googleapis.com (storage.googleapis.com)... 74.125.199.128, 74.125.197.128, 74.125.20.128, ...\n",
            "Connecting to storage.googleapis.com (storage.googleapis.com)|74.125.199.128|:443... connected.\n",
            "HTTP request sent, awaiting response... 200 OK\n",
            "Length: 93578 (91K) [text/plain]\n",
            "Saving to: ‘/tmp/sonnets.txt’\n",
            "\n",
            "\r/tmp/sonnets.txt      0%[                    ]       0  --.-KB/s               \r/tmp/sonnets.txt    100%[===================>]  91.38K  --.-KB/s    in 0.001s  \n",
            "\n",
            "2020-12-08 19:26:02 (63.0 MB/s) - ‘/tmp/sonnets.txt’ saved [93578/93578]\n",
            "\n"
          ],
          "name": "stdout"
        }
      ]
    },
    {
      "cell_type": "code",
      "metadata": {
        "colab": {
          "base_uri": "https://localhost:8080/"
        },
        "id": "_cjGKHOuiRqy",
        "outputId": "c51946a1-0ee2-40ad-cb42-5611cd78f1ab"
      },
      "source": [
        "print(predictors.shape)\n",
        "print(label.shape)"
      ],
      "execution_count": null,
      "outputs": [
        {
          "output_type": "stream",
          "text": [
            "(15462, 10)\n",
            "(15462, 3211)\n"
          ],
          "name": "stdout"
        }
      ]
    },
    {
      "cell_type": "code",
      "metadata": {
        "id": "w9vH8Y59ajYL",
        "colab": {
          "base_uri": "https://localhost:8080/"
        },
        "outputId": "5351e89e-ceb1-44ff-b38b-e92aa562270f"
      },
      "source": [
        "model = Sequential()\n",
        "model.add(Embedding(total_words, 100, input_length = max_sequence_len - 1))\n",
        "model.add(Bidirectional(LSTM(150, return_sequences=True)))\n",
        "model.add(Dropout(0.2))\n",
        "model.add(LSTM(150))\n",
        "#model.add(Dense(128, kernel_regularizer=regularizers.l1_l2(l1=1e-5, l2=1e-4), bias_regularizer=regularizers.l2(1e-4), activity_regularizer=regularizers.l2(1e-5), activation='relu'))\n",
        "model.add(Dense(total_words, activation='softmax'))\n",
        "adam = Adam(lr=0.01)\n",
        "# Pick an optimizer\n",
        "model.compile(optimizer = adam, loss='categorical_crossentropy', metrics=['accuracy'])\n",
        "print(model.summary())\n"
      ],
      "execution_count": null,
      "outputs": [
        {
          "output_type": "stream",
          "text": [
            "Model: \"sequential_2\"\n",
            "_________________________________________________________________\n",
            "Layer (type)                 Output Shape              Param #   \n",
            "=================================================================\n",
            "embedding_2 (Embedding)      (None, 10, 100)           321100    \n",
            "_________________________________________________________________\n",
            "bidirectional_2 (Bidirection (None, 10, 300)           301200    \n",
            "_________________________________________________________________\n",
            "dropout_1 (Dropout)          (None, 10, 300)           0         \n",
            "_________________________________________________________________\n",
            "lstm_5 (LSTM)                (None, 150)               270600    \n",
            "_________________________________________________________________\n",
            "dense_3 (Dense)              (None, 3211)              484861    \n",
            "=================================================================\n",
            "Total params: 1,377,761\n",
            "Trainable params: 1,377,761\n",
            "Non-trainable params: 0\n",
            "_________________________________________________________________\n",
            "None\n"
          ],
          "name": "stdout"
        }
      ]
    },
    {
      "cell_type": "code",
      "metadata": {
        "id": "AIg2f1HBxqof",
        "colab": {
          "base_uri": "https://localhost:8080/"
        },
        "outputId": "e27fa078-0b35-4813-816a-765a1b5c45aa"
      },
      "source": [
        " history = model.fit(predictors, label, epochs=100, verbose=1)"
      ],
      "execution_count": null,
      "outputs": [
        {
          "output_type": "stream",
          "text": [
            "Epoch 1/100\n",
            "484/484 [==============================] - 6s 13ms/step - loss: 6.9772 - accuracy: 0.0221\n",
            "Epoch 2/100\n",
            "484/484 [==============================] - 6s 13ms/step - loss: 7.4330 - accuracy: 0.0219\n",
            "Epoch 3/100\n",
            "484/484 [==============================] - 6s 13ms/step - loss: 7.0061 - accuracy: 0.0235\n",
            "Epoch 4/100\n",
            "484/484 [==============================] - 6s 13ms/step - loss: 6.8302 - accuracy: 0.0248\n",
            "Epoch 5/100\n",
            "484/484 [==============================] - 6s 13ms/step - loss: 7.1619 - accuracy: 0.0259\n",
            "Epoch 6/100\n",
            "484/484 [==============================] - 6s 13ms/step - loss: 7.0244 - accuracy: 0.0258\n",
            "Epoch 7/100\n",
            "484/484 [==============================] - 7s 14ms/step - loss: 7.0924 - accuracy: 0.0255\n",
            "Epoch 8/100\n",
            "484/484 [==============================] - 7s 14ms/step - loss: 7.0925 - accuracy: 0.0271\n",
            "Epoch 9/100\n",
            "484/484 [==============================] - 6s 13ms/step - loss: 7.1120 - accuracy: 0.0252\n",
            "Epoch 10/100\n",
            "484/484 [==============================] - 6s 13ms/step - loss: 7.2703 - accuracy: 0.0275\n",
            "Epoch 11/100\n",
            "484/484 [==============================] - 6s 13ms/step - loss: 7.3405 - accuracy: 0.0250\n",
            "Epoch 12/100\n",
            "484/484 [==============================] - 7s 14ms/step - loss: 7.0649 - accuracy: 0.0259\n",
            "Epoch 13/100\n",
            "484/484 [==============================] - 7s 13ms/step - loss: 7.1527 - accuracy: 0.0288\n",
            "Epoch 14/100\n",
            "484/484 [==============================] - 6s 13ms/step - loss: 7.2202 - accuracy: 0.0287\n",
            "Epoch 15/100\n",
            "484/484 [==============================] - 6s 13ms/step - loss: 6.9712 - accuracy: 0.0281\n",
            "Epoch 16/100\n",
            "484/484 [==============================] - 6s 13ms/step - loss: 6.9313 - accuracy: 0.0296\n",
            "Epoch 17/100\n",
            "484/484 [==============================] - 6s 13ms/step - loss: 7.0475 - accuracy: 0.0316\n",
            "Epoch 18/100\n",
            "484/484 [==============================] - 6s 13ms/step - loss: 7.1211 - accuracy: 0.0294\n",
            "Epoch 19/100\n",
            "484/484 [==============================] - 6s 13ms/step - loss: 6.9326 - accuracy: 0.0305\n",
            "Epoch 20/100\n",
            "484/484 [==============================] - 6s 12ms/step - loss: 6.9270 - accuracy: 0.0316\n",
            "Epoch 21/100\n",
            "484/484 [==============================] - 6s 13ms/step - loss: 6.9061 - accuracy: 0.0319\n",
            "Epoch 22/100\n",
            "484/484 [==============================] - 6s 13ms/step - loss: 6.8923 - accuracy: 0.0308\n",
            "Epoch 23/100\n",
            "484/484 [==============================] - 6s 13ms/step - loss: 7.0872 - accuracy: 0.0318\n",
            "Epoch 24/100\n",
            "484/484 [==============================] - 6s 13ms/step - loss: 6.8585 - accuracy: 0.0325\n",
            "Epoch 25/100\n",
            "484/484 [==============================] - 6s 12ms/step - loss: 6.8661 - accuracy: 0.0330\n",
            "Epoch 26/100\n",
            "484/484 [==============================] - 6s 13ms/step - loss: 6.8415 - accuracy: 0.0360\n",
            "Epoch 27/100\n",
            "484/484 [==============================] - 6s 13ms/step - loss: 6.8635 - accuracy: 0.0340\n",
            "Epoch 28/100\n",
            "484/484 [==============================] - 6s 13ms/step - loss: 6.8154 - accuracy: 0.0345\n",
            "Epoch 29/100\n",
            "484/484 [==============================] - 6s 13ms/step - loss: 6.8100 - accuracy: 0.0341\n",
            "Epoch 30/100\n",
            "484/484 [==============================] - 6s 13ms/step - loss: 6.7978 - accuracy: 0.0345\n",
            "Epoch 31/100\n",
            "484/484 [==============================] - 6s 13ms/step - loss: 6.7788 - accuracy: 0.0348\n",
            "Epoch 32/100\n",
            "484/484 [==============================] - 6s 13ms/step - loss: 6.7678 - accuracy: 0.0348\n",
            "Epoch 33/100\n",
            "484/484 [==============================] - 6s 13ms/step - loss: 6.7584 - accuracy: 0.0376\n",
            "Epoch 34/100\n",
            "484/484 [==============================] - 6s 13ms/step - loss: 6.7400 - accuracy: 0.0374\n",
            "Epoch 35/100\n",
            "484/484 [==============================] - 6s 13ms/step - loss: 6.7524 - accuracy: 0.0365\n",
            "Epoch 36/100\n",
            "484/484 [==============================] - 6s 13ms/step - loss: 6.7304 - accuracy: 0.0396\n",
            "Epoch 37/100\n",
            "484/484 [==============================] - 6s 12ms/step - loss: 6.7174 - accuracy: 0.0391\n",
            "Epoch 38/100\n",
            "484/484 [==============================] - 6s 13ms/step - loss: 6.7177 - accuracy: 0.0387\n",
            "Epoch 39/100\n",
            "484/484 [==============================] - 6s 12ms/step - loss: 6.6998 - accuracy: 0.0394\n",
            "Epoch 40/100\n",
            "484/484 [==============================] - 6s 13ms/step - loss: 6.6929 - accuracy: 0.0384\n",
            "Epoch 41/100\n",
            "484/484 [==============================] - 6s 13ms/step - loss: 6.6712 - accuracy: 0.0413\n",
            "Epoch 42/100\n",
            "484/484 [==============================] - 6s 13ms/step - loss: 6.6487 - accuracy: 0.0409\n",
            "Epoch 43/100\n",
            "484/484 [==============================] - 6s 13ms/step - loss: 6.6482 - accuracy: 0.0400\n",
            "Epoch 44/100\n",
            "484/484 [==============================] - 6s 13ms/step - loss: 6.6512 - accuracy: 0.0429\n",
            "Epoch 45/100\n",
            "484/484 [==============================] - 6s 13ms/step - loss: 6.6217 - accuracy: 0.0417\n",
            "Epoch 46/100\n",
            "484/484 [==============================] - 6s 13ms/step - loss: 6.6206 - accuracy: 0.0443\n",
            "Epoch 47/100\n",
            "484/484 [==============================] - 6s 13ms/step - loss: 6.6132 - accuracy: 0.0403\n",
            "Epoch 48/100\n",
            "484/484 [==============================] - 6s 13ms/step - loss: 6.6147 - accuracy: 0.0413\n",
            "Epoch 49/100\n",
            "484/484 [==============================] - 6s 13ms/step - loss: 6.5937 - accuracy: 0.0443\n",
            "Epoch 50/100\n",
            "484/484 [==============================] - 6s 13ms/step - loss: 6.5868 - accuracy: 0.0423\n",
            "Epoch 51/100\n",
            "484/484 [==============================] - 6s 13ms/step - loss: 6.5813 - accuracy: 0.0431\n",
            "Epoch 52/100\n",
            "484/484 [==============================] - 6s 13ms/step - loss: 6.5460 - accuracy: 0.0439\n",
            "Epoch 53/100\n",
            "484/484 [==============================] - 6s 13ms/step - loss: 6.5258 - accuracy: 0.0442\n",
            "Epoch 54/100\n",
            "484/484 [==============================] - 6s 13ms/step - loss: 6.5217 - accuracy: 0.0472\n",
            "Epoch 55/100\n",
            "484/484 [==============================] - 6s 13ms/step - loss: 6.5142 - accuracy: 0.0436\n",
            "Epoch 56/100\n",
            "484/484 [==============================] - 6s 13ms/step - loss: 6.4856 - accuracy: 0.0444\n",
            "Epoch 57/100\n",
            "484/484 [==============================] - 7s 14ms/step - loss: 6.4570 - accuracy: 0.0431\n",
            "Epoch 58/100\n",
            "484/484 [==============================] - 6s 13ms/step - loss: 6.4505 - accuracy: 0.0453\n",
            "Epoch 59/100\n",
            "484/484 [==============================] - 6s 12ms/step - loss: 6.4202 - accuracy: 0.0444\n",
            "Epoch 60/100\n",
            "484/484 [==============================] - 6s 13ms/step - loss: 6.4378 - accuracy: 0.0459\n",
            "Epoch 61/100\n",
            "484/484 [==============================] - 7s 14ms/step - loss: 6.4337 - accuracy: 0.0444\n",
            "Epoch 62/100\n",
            "484/484 [==============================] - 6s 13ms/step - loss: 6.4079 - accuracy: 0.0472\n",
            "Epoch 63/100\n",
            "484/484 [==============================] - 6s 13ms/step - loss: 6.3767 - accuracy: 0.0475\n",
            "Epoch 64/100\n",
            "484/484 [==============================] - 6s 13ms/step - loss: 6.3789 - accuracy: 0.0436\n",
            "Epoch 65/100\n",
            "484/484 [==============================] - 6s 13ms/step - loss: 6.3583 - accuracy: 0.0466\n",
            "Epoch 66/100\n",
            "484/484 [==============================] - 6s 13ms/step - loss: 6.3382 - accuracy: 0.0491\n",
            "Epoch 67/100\n",
            "484/484 [==============================] - 6s 13ms/step - loss: 6.3259 - accuracy: 0.0466\n",
            "Epoch 68/100\n",
            "484/484 [==============================] - 6s 13ms/step - loss: 6.3090 - accuracy: 0.0468\n",
            "Epoch 69/100\n",
            "484/484 [==============================] - 6s 13ms/step - loss: 6.2929 - accuracy: 0.0487\n",
            "Epoch 70/100\n",
            "484/484 [==============================] - 6s 13ms/step - loss: 6.2835 - accuracy: 0.0474\n",
            "Epoch 71/100\n",
            "484/484 [==============================] - 6s 13ms/step - loss: 6.2560 - accuracy: 0.0469\n",
            "Epoch 72/100\n",
            "484/484 [==============================] - 6s 13ms/step - loss: 6.2503 - accuracy: 0.0454\n",
            "Epoch 73/100\n",
            "484/484 [==============================] - 6s 13ms/step - loss: 6.2233 - accuracy: 0.0465\n",
            "Epoch 74/100\n",
            "484/484 [==============================] - 6s 13ms/step - loss: 6.2232 - accuracy: 0.0479\n",
            "Epoch 75/100\n",
            "484/484 [==============================] - 6s 13ms/step - loss: 6.2081 - accuracy: 0.0497\n",
            "Epoch 76/100\n",
            "484/484 [==============================] - 6s 13ms/step - loss: 6.2101 - accuracy: 0.0502\n",
            "Epoch 77/100\n",
            "484/484 [==============================] - 6s 13ms/step - loss: 6.1890 - accuracy: 0.0499\n",
            "Epoch 78/100\n",
            "484/484 [==============================] - 6s 13ms/step - loss: 6.1664 - accuracy: 0.0506\n",
            "Epoch 79/100\n",
            "484/484 [==============================] - 6s 12ms/step - loss: 6.1676 - accuracy: 0.0483\n",
            "Epoch 80/100\n",
            "484/484 [==============================] - 6s 13ms/step - loss: 6.1572 - accuracy: 0.0499\n",
            "Epoch 81/100\n",
            "484/484 [==============================] - 6s 13ms/step - loss: 6.1557 - accuracy: 0.0486\n",
            "Epoch 82/100\n",
            "484/484 [==============================] - 6s 12ms/step - loss: 6.1333 - accuracy: 0.0483\n",
            "Epoch 83/100\n",
            "484/484 [==============================] - 6s 12ms/step - loss: 6.1286 - accuracy: 0.0487\n",
            "Epoch 84/100\n",
            "484/484 [==============================] - 6s 12ms/step - loss: 6.1119 - accuracy: 0.0517\n",
            "Epoch 85/100\n",
            "484/484 [==============================] - 6s 12ms/step - loss: 6.0930 - accuracy: 0.0518\n",
            "Epoch 86/100\n",
            "484/484 [==============================] - 6s 12ms/step - loss: 6.1109 - accuracy: 0.0509\n",
            "Epoch 87/100\n",
            "484/484 [==============================] - 6s 13ms/step - loss: 6.0890 - accuracy: 0.0539\n",
            "Epoch 88/100\n",
            "484/484 [==============================] - 6s 13ms/step - loss: 6.0780 - accuracy: 0.0509\n",
            "Epoch 89/100\n",
            "484/484 [==============================] - 6s 12ms/step - loss: 6.0375 - accuracy: 0.0534\n",
            "Epoch 90/100\n",
            "484/484 [==============================] - 6s 12ms/step - loss: 6.0526 - accuracy: 0.0519\n",
            "Epoch 91/100\n",
            "484/484 [==============================] - 6s 13ms/step - loss: 6.0381 - accuracy: 0.0521\n",
            "Epoch 92/100\n",
            "484/484 [==============================] - 6s 12ms/step - loss: 6.0511 - accuracy: 0.0537\n",
            "Epoch 93/100\n",
            "484/484 [==============================] - 6s 12ms/step - loss: 6.0271 - accuracy: 0.0504\n",
            "Epoch 94/100\n",
            "484/484 [==============================] - 6s 13ms/step - loss: 6.0129 - accuracy: 0.0528\n",
            "Epoch 95/100\n",
            "484/484 [==============================] - 6s 12ms/step - loss: 5.9920 - accuracy: 0.0526\n",
            "Epoch 96/100\n",
            "484/484 [==============================] - 6s 13ms/step - loss: 5.9913 - accuracy: 0.0550\n",
            "Epoch 97/100\n",
            "484/484 [==============================] - 6s 13ms/step - loss: 5.9667 - accuracy: 0.0550\n",
            "Epoch 98/100\n",
            "484/484 [==============================] - 6s 13ms/step - loss: 5.9562 - accuracy: 0.0543\n",
            "Epoch 99/100\n",
            "484/484 [==============================] - 6s 12ms/step - loss: 5.9506 - accuracy: 0.0557\n",
            "Epoch 100/100\n",
            "484/484 [==============================] - 6s 12ms/step - loss: 5.9448 - accuracy: 0.0541\n"
          ],
          "name": "stdout"
        }
      ]
    },
    {
      "cell_type": "code",
      "metadata": {
        "id": "1fXTEO3GJ282",
        "colab": {
          "base_uri": "https://localhost:8080/",
          "height": 545
        },
        "outputId": "dd54e8d7-943a-4c53-8dd4-44b188ba141f"
      },
      "source": [
        "import matplotlib.pyplot as plt\n",
        "acc = history.history['accuracy']\n",
        "loss = history.history['loss']\n",
        "\n",
        "epochs = range(len(acc))\n",
        "\n",
        "plt.plot(epochs, acc, 'b', label='Training accuracy')\n",
        "plt.title('Training accuracy')\n",
        "\n",
        "plt.figure()\n",
        "\n",
        "plt.plot(epochs, loss, 'b', label='Training Loss')\n",
        "plt.title('Training loss')\n",
        "plt.legend()\n",
        "\n",
        "plt.show()"
      ],
      "execution_count": null,
      "outputs": [
        {
          "output_type": "display_data",
          "data": {
            "image/png": "[encoded data removed]",
            "text/plain": [
              "<Figure size 432x288 with 1 Axes>"
            ]
          },
          "metadata": {
            "tags": [],
            "needs_background": "light"
          }
        },
        {
          "output_type": "display_data",
          "data": {
            "image/png": "[encoded data removed]",
            "text/plain": [
              "<Figure size 432x288 with 1 Axes>"
            ]
          },
          "metadata": {
            "tags": [],
            "needs_background": "light"
          }
        }
      ]
    },
    {
      "cell_type": "code",
      "metadata": {
        "id": "6Vc6PHgxa6Hm",
        "colab": {
          "base_uri": "https://localhost:8080/"
        },
        "outputId": "80bbddbf-8967-4bb9-d28c-0ef24babcb38"
      },
      "source": [
        "seed_text = \"Help me Obi Wan Kenobi, you're my only hope\"\n",
        "next_words = 100\n",
        "  \n",
        "for _ in range(next_words):\n",
        "\ttoken_list = tokenizer.texts_to_sequences([seed_text])[0]\n",
        "\ttoken_list = pad_sequences([token_list], maxlen=max_sequence_len-1, padding='pre')\n",
        "\tpredicted = model.predict_classes(token_list, verbose=0)\n",
        "\toutput_word = \"\"\n",
        "\tfor word, index in tokenizer.word_index.items():\n",
        "\t\tif index == predicted:\n",
        "\t\t\toutput_word = word\n",
        "\t\t\tbreak\n",
        "\tseed_text += \" \" + output_word\n",
        "print(seed_text)"
      ],
      "execution_count": null,
      "outputs": [
        {
          "output_type": "stream",
          "text": [
            "Help me Obi Wan Kenobi, you're my only hope in my love of laws 'will' thee thee thee thee me thee thee thee thee ears forgetful hugely ' ' ' thee thy rhyme mind thee ' see so smells so seal ' kindness me me you ' thee thou 'will' thee so thee me me me me thee thee ' rebuked me goodness ' ' thee thee me me so me room ' kindness thee when me me me me me kindness so thee spurring ' ' forgetful ' thee thee thee thee this heart so so thee crown'd thee thee thee thee thee shade ' surmise join twain\n"
          ],
          "name": "stdout"
        }
      ]
    }
  ]
}